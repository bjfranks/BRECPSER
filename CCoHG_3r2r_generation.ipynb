{
 "cells": [
  {
   "cell_type": "markdown",
   "id": "00a09042-11d6-41d4-9f43-d6f767151da8",
   "metadata": {},
   "source": [
    "# CCoHG"
   ]
  },
  {
   "cell_type": "code",
   "execution_count": null,
   "id": "f1f9a51f-7ca0-4d9f-8d31-36eaabb7f012",
   "metadata": {},
   "outputs": [],
   "source": [
    "import random\n",
    "import math\n",
    "import networkx as nx\n",
    "from torch_geometric.utils.convert import from_networkx\n",
    "import pickle\n",
    "import matplotlib.pyplot as plt\n",
    "import numpy as np"
   ]
  },
  {
   "cell_type": "code",
   "execution_count": null,
   "id": "22cf72d4-a678-4020-b4f3-8bad38e02420",
   "metadata": {},
   "outputs": [],
   "source": [
    "def hamiltonian(n, p=0.5):\n",
    "    edge_list = []\n",
    "    for i in range(n-1):\n",
    "        edge_list.append((i,i+1))\n",
    "    edge_list.append((0, n-1))\n",
    "    for i in range(n):\n",
    "        for j in range(n):\n",
    "            if j>i and abs(i-j)>1 and abs(i-j)<n-1 and random.random() < p:\n",
    "                edge_list.append((i,j))\n",
    "    return edge_list"
   ]
  },
  {
   "cell_type": "code",
   "execution_count": null,
   "id": "40ac49b5-41d8-4477-9148-49acb998b9f5",
   "metadata": {},
   "outputs": [],
   "source": [
    "def yielder(_edge_list, index, edges):\n",
    "    if index<len(edges):\n",
    "        i,j = edges[index]\n",
    "        yield from yielder(_edge_list, index+1, edges)\n",
    "        yield from yielder(_edge_list+[(i,j)], index+1, edges)\n",
    "    else:\n",
    "        yield _edge_list\n",
    "\n",
    "def all_hamiltonians(n):\n",
    "    edge_list = []\n",
    "    for i in range(n-1):\n",
    "        edge_list.append((i,i+1))\n",
    "    edge_list.append((0, n-1))\n",
    "    edges = [(i,j) for i in range(n) for j in range(n) if j>i and abs(i-j)>1 and abs(i-j)<n-1]\n",
    "    random.shuffle(edges)\n",
    "    yield from yielder(edge_list, 0, edges)"
   ]
  },
  {
   "cell_type": "code",
   "execution_count": null,
   "id": "9e34478a-4cd1-4fa0-ad7a-1388151d0027",
   "metadata": {},
   "outputs": [],
   "source": [
    "def CCoHG(edge_list, n):\n",
    "    modified_edge_list = []\n",
    "    for (i, j) in edge_list:\n",
    "        modified_edge_list.append((i,j))\n",
    "        modified_edge_list.append((j,i))\n",
    "        modified_edge_list.append((i+n,j+n))\n",
    "        modified_edge_list.append((j+n,i+n))\n",
    "        modified_edge_list.append((i+(2*n),j+(2*n)))\n",
    "        modified_edge_list.append((j+(2*n),i+(2*n)))\n",
    "        modified_edge_list.append((i+(3*n),j+(3*n)))\n",
    "        modified_edge_list.append((j+(3*n),i+(3*n)))\n",
    "        if (i==0 and j==n-1):\n",
    "            modified_edge_list.append((i,j+(3*n)))\n",
    "            modified_edge_list.append((j+(3*n), i))\n",
    "            modified_edge_list.append((i+(3*n),j))\n",
    "            modified_edge_list.append((j, i+(3*n)))\n",
    "            modified_edge_list.append((i+n,j+(2*n)))\n",
    "            modified_edge_list.append((j+(2*n),i+n))\n",
    "            modified_edge_list.append((i+(2*n),j+n))\n",
    "            modified_edge_list.append((j+n,i+(2*n)))\n",
    "        else: #Its actually not important how exactly the following pairs are determined, however, if this is done differently, then the edge have to be matched\n",
    "            modified_edge_list.append((i,j+n))\n",
    "            modified_edge_list.append((j+n,i))\n",
    "            modified_edge_list.append((i+n,j))\n",
    "            modified_edge_list.append((j,i+n))\n",
    "            modified_edge_list.append((i+(2*n),j+(3*n)))\n",
    "            modified_edge_list.append((j+(3*n),i+(2*n)))\n",
    "            modified_edge_list.append((i+(3*n),j+(2*n)))\n",
    "            modified_edge_list.append((j+(2*n),i+(3*n)))\n",
    "    return modified_edge_list\n",
    "\n",
    "def CCoHG_pair(edge_list, n):\n",
    "    edge_list = CCoHG(hamiltonian(n), n)\n",
    "    nx_graph_1 = nx.from_edgelist(edge_list)\n",
    "    nx_graph_2 = nx.from_edgelist(edge_list)\n",
    "    nodes_1 = dict()\n",
    "    for i in range(n):\n",
    "        nodes_1[i] = 1\n",
    "        nodes_1[i+n] = 0\n",
    "        nodes_1[i+2*n] = 1\n",
    "        nodes_1[i+3*n] = 0\n",
    "    nodes_2 = dict()\n",
    "    for i in range(n):\n",
    "        nodes_2[i] = int(i<n/2)\n",
    "        nodes_2[i+n] = int(i>=n/2)\n",
    "        nodes_2[i+2*n] = int(i<n/2)\n",
    "        nodes_2[i+3*n] = int(i>=n/2)\n",
    "    nx.set_node_attributes(nx_graph_1, nodes_1, name=\"x\")\n",
    "    nx.set_node_attributes(nx_graph_2, nodes_2, name=\"x\")\n",
    "    return nx_graph_1, nx_graph_2"
   ]
  },
  {
   "cell_type": "code",
   "execution_count": null,
   "id": "9c98435b-4030-42a6-82bd-549112039469",
   "metadata": {},
   "outputs": [],
   "source": [
    "hamiltonians = []\n",
    "for n in range(3,8):\n",
    "    hamiltonians_current = []\n",
    "    for edge_list in all_hamiltonians(n):\n",
    "        graph = nx.from_edgelist(edge_list)\n",
    "        if max([b for a,b in graph.degree]) > 6:\n",
    "            continue\n",
    "        if not True in [nx.is_isomorphic(graph, graph2) for graph2 in hamiltonians_current]:\n",
    "            hamiltonians_current.append(graph)\n",
    "    hamiltonians.extend(hamiltonians_current)"
   ]
  },
  {
   "cell_type": "code",
   "execution_count": null,
   "id": "5da0d97b-a647-4a22-bd05-b17ad15bf029",
   "metadata": {},
   "outputs": [],
   "source": [
    "len(hamiltonians)"
   ]
  },
  {
   "cell_type": "code",
   "execution_count": null,
   "id": "3e0dca0b-a33f-4b04-afba-df62d8af45a0",
   "metadata": {},
   "outputs": [],
   "source": [
    "hamiltonians_BREC = hamiltonians\n",
    "while len(hamiltonians_BREC)>100:\n",
    "    max_avg_degree = max([sum([b for a,b in graph.degree])/graph.order() for graph in hamiltonians_BREC])\n",
    "    highs = [graph for graph in hamiltonians_BREC if sum([b for a,b in graph.degree])/graph.order()==max_avg_degree]\n",
    "    lows = [graph for graph in hamiltonians_BREC if sum([b for a,b in graph.degree])/graph.order()<max_avg_degree]\n",
    "    print(len(highs), len(lows))\n",
    "    random.shuffle(highs)\n",
    "    hamiltonians_BREC = lows + highs[:100-len(lows)]\n",
    "    print(len(hamiltonians_BREC))"
   ]
  },
  {
   "cell_type": "code",
   "execution_count": null,
   "id": "c0ff6d41-c80a-4080-983d-b32d191e8c97",
   "metadata": {},
   "outputs": [],
   "source": [
    "with open(\"hamiltoniansBREC.graphml\", \"wb\") as f:\n",
    "    for graph in hamiltonians_BREC:\n",
    "        gml = nx.generate_graphml(graph)\n",
    "        pickle.dump(chr(10).join(gml), f)"
   ]
  },
  {
   "cell_type": "code",
   "execution_count": null,
   "id": "fac0e8f4-59c3-4de4-b399-5cbf4a9192bf",
   "metadata": {},
   "outputs": [],
   "source": [
    "if False:\n",
    "    hamiltonians_BREC = []\n",
    "    with open(\"hamiltoniansBREC.graphml\", \"rb\") as f:\n",
    "        while True:\n",
    "            try:\n",
    "                hamiltonians_BREC.append(nx.parse_graphml(pickle.load(f)))\n",
    "            except EOFError:\n",
    "                break"
   ]
  },
  {
   "cell_type": "code",
   "execution_count": null,
   "id": "ee246e06-c96b-4cc1-8da9-1e874dc91978",
   "metadata": {},
   "outputs": [],
   "source": [
    "CCoHG_graphs = []\n",
    "for graph in hamiltonians_BREC:\n",
    "    edges = graph.edges\n",
    "    edges = [(int(a), int(b)) for a,b in edges]\n",
    "    graph_1, graph_2 = CCoHG_pair(edges, graph.order())\n",
    "    CCoHG_graphs.append(graph_1)\n",
    "    CCoHG_graphs.append(graph_2)\n",
    "with open(\"CCoHG_BREC.graphml\", \"wb\") as f:\n",
    "    for graph in CCoHG_graphs:\n",
    "        gml = nx.generate_graphml(graph)\n",
    "        pickle.dump(chr(10).join(gml), f)\n",
    "if False:\n",
    "    CCoHG_graphs = []\n",
    "    with open(\"CCoHG_BREC.graphml\", \"rb\") as f:\n",
    "        while True:\n",
    "            try:\n",
    "                CCoHG_graphs.append(nx.parse_graphml(pickle.load(f)))\n",
    "            except EOFError:\n",
    "                break\n",
    "    print(len(CCoHG_graphs))\n",
    "for graph in CCoHG_graphs:\n",
    "    nx.draw_networkx(graph, with_labels=True, node_color=[[\"green\", \"red\"][value] for key, value in nx.get_node_attributes(graph, name=\"x\").items()])\n",
    "    plt.show()\n",
    "    plt.clf()"
   ]
  },
  {
   "cell_type": "code",
   "execution_count": null,
   "id": "361087ce-b0bc-4bb0-a2b1-d301e03ba5ce",
   "metadata": {},
   "outputs": [],
   "source": [
    "print(len(hamiltonians))"
   ]
  },
  {
   "cell_type": "markdown",
   "id": "bad28829-7b27-4787-be77-4c076f76acae",
   "metadata": {},
   "source": [
    "## CCoHG Standard Dataset"
   ]
  },
  {
   "cell_type": "code",
   "execution_count": null,
   "id": "4cf70a87-4c55-4934-b9c1-0adcfe2720cb",
   "metadata": {},
   "outputs": [],
   "source": [
    "for n in range(8, 13):\n",
    "    hamiltonians_current = []\n",
    "    for edge_list in all_hamiltonians(n):\n",
    "        if len(hamiltonians_current) >= 120:\n",
    "            break\n",
    "        graph = nx.from_edgelist(edge_list)\n",
    "        if max([b for a,b in graph.degree]) > 6:\n",
    "            continue\n",
    "        if not True in [nx.faster_could_be_isomorphic(graph, graph2) for graph2 in hamiltonians_current]:#is_isomorphic\n",
    "            hamiltonians_current.append(graph)\n",
    "            print(n, len(hamiltonians_current), end=\"\\r\")\n",
    "    hamiltonians.extend(hamiltonians_current)\n",
    "    print(\" \"*50)"
   ]
  },
  {
   "cell_type": "code",
   "execution_count": null,
   "id": "03880ba0-5ae4-4ce1-a627-43f5819f2d94",
   "metadata": {},
   "outputs": [],
   "source": [
    "print(len(hamiltonians))"
   ]
  },
  {
   "cell_type": "code",
   "execution_count": null,
   "id": "9d551bfd-6b7f-4964-9549-8276a8a20d7a",
   "metadata": {
    "scrolled": true
   },
   "outputs": [],
   "source": [
    "hamiltonians\n",
    "while len(hamiltonians)>1000:\n",
    "    max_avg_degree = max([sum([b for a,b in graph.degree])/graph.order() for graph in hamiltonians])\n",
    "    highs = [graph for graph in hamiltonians if sum([b for a,b in graph.degree])/graph.order()==max_avg_degree]\n",
    "    lows = [graph for graph in hamiltonians if sum([b for a,b in graph.degree])/graph.order()<max_avg_degree]\n",
    "    print(len(highs), len(lows))\n",
    "    random.shuffle(highs)\n",
    "    hamiltonians = lows + highs[:1000-len(lows)]\n",
    "    print(len(hamiltonians))"
   ]
  },
  {
   "cell_type": "code",
   "execution_count": null,
   "id": "5e3b2170-df90-4ff3-b6ea-38dc9937168a",
   "metadata": {},
   "outputs": [],
   "source": [
    "with open(\"hamiltonians.graphml\", \"wb\") as f:\n",
    "    for graph in hamiltonians:\n",
    "        gml = nx.generate_graphml(graph)\n",
    "        pickle.dump(chr(10).join(gml), f)"
   ]
  },
  {
   "cell_type": "code",
   "execution_count": null,
   "id": "4ed82a30-d640-4549-83d7-82f3e6db683a",
   "metadata": {},
   "outputs": [],
   "source": [
    "if False:\n",
    "    hamiltonians = []\n",
    "    with open(\"hamiltonians.graphml\", \"rb\") as f:\n",
    "        while True:\n",
    "            try:\n",
    "                hamiltonians.append(nx.parse_graphml(pickle.load(f)))\n",
    "            except EOFError:\n",
    "                break"
   ]
  },
  {
   "cell_type": "code",
   "execution_count": null,
   "id": "5afa558c-b2f6-4ee6-b54d-30b34264f421",
   "metadata": {
    "scrolled": true
   },
   "outputs": [],
   "source": [
    "CCoHG_graphs = []\n",
    "for graph in hamiltonians:\n",
    "    edges = graph.edges\n",
    "    edges = [(int(a), int(b)) for a,b in edges]\n",
    "    graph_1, graph_2 = CCoHG_pair(edges, graph.order())\n",
    "    CCoHG_graphs.append(graph_1)\n",
    "    CCoHG_graphs.append(graph_2)\n",
    "with open(\"CCoHG.graphml\", \"wb\") as f:\n",
    "    for graph in CCoHG_graphs:\n",
    "        gml = nx.generate_graphml(graph)\n",
    "        pickle.dump(chr(10).join(gml), f)\n",
    "if False:\n",
    "    CCoHG_graphs = []\n",
    "    with open(\"CCoHG.graphml\", \"rb\") as f:\n",
    "        while True:\n",
    "            try:\n",
    "                CCoHG_graphs.append(nx.parse_graphml(pickle.load(f)))\n",
    "            except EOFError:\n",
    "                break\n",
    "    print(len(CCoHG_graphs))\n",
    "for graph in CCoHG_graphs:\n",
    "    nx.draw_networkx(graph, with_labels=True, node_color=[[\"green\", \"red\"][value] for key, value in nx.get_node_attributes(graph, name=\"x\").items()])\n",
    "    plt.show()\n",
    "    plt.clf()"
   ]
  },
  {
   "cell_type": "markdown",
   "id": "03b1f468-289e-4d0e-905d-9374056d506d",
   "metadata": {},
   "source": [
    "# 3 Regular 2 Regular"
   ]
  },
  {
   "cell_type": "code",
   "execution_count": null,
   "id": "ea435f2d-8efd-409f-a6ca-d250dad37589",
   "metadata": {
    "scrolled": true
   },
   "outputs": [],
   "source": [
    "import torch, torch_geometric\n",
    "import matplotlib.pyplot as plt\n",
    "import networkx as nx\n",
    "\n",
    "\n",
    "from torch_geometric.data import Dataset, Data\n",
    "\n",
    "pattern6 = nx.cycle_graph(6)\n",
    "\n",
    "def count_pattern(G, pattern):\n",
    "    GM = nx.algorithms.isomorphism.GraphMatcher(G, pattern)\n",
    "    unique_p = set()\n",
    "\n",
    "    for mapping in GM.subgraph_isomorphisms_iter():\n",
    "        nodes_in_subgraph = frozenset(mapping.items())\n",
    "        unique_p.add(nodes_in_subgraph)\n",
    "\n",
    "    return len(unique_p)\n",
    "\n",
    "def generate_3_regular_graph(N, min_diam=1):\n",
    "    G = nx.random_regular_graph(3, N)\n",
    "    while (not nx.is_connected(G)) or (nx.diameter(G) < min_diam):\n",
    "        G = nx.random_regular_graph(3, N)\n",
    "\n",
    "    return G\n",
    "\n",
    "def split_edges(G, s=2):\n",
    "    new_G = nx.Graph()\n",
    "\n",
    "    for u in G.nodes():\n",
    "      new_G.add_node(u)\n",
    "\n",
    "    for u, v in G.edges():\n",
    "        new_nodes = [u]\n",
    "        for _ in range(s-1):\n",
    "            new_node = max(new_G.nodes)+1\n",
    "            new_nodes.append(new_node)\n",
    "            new_G.add_node(new_node)\n",
    "        new_nodes.append(v)\n",
    "        for i in range(len(new_nodes)-1):\n",
    "            new_G.add_edge(new_nodes[i], new_nodes[i+1])\n",
    "            new_G.add_edge(new_nodes[i+1], new_nodes[i])\n",
    "\n",
    "    return new_G\n",
    "\n",
    "\n",
    "def networkx_to_pyg(G):\n",
    "    nodes = list(G.nodes())\n",
    "    node_idx = {node: i for i, node in enumerate(nodes)}\n",
    "\n",
    "    edges = []\n",
    "    for u, v in G.edges():\n",
    "        edges.append((node_idx[u], node_idx[v]))\n",
    "        edges.append((node_idx[v], node_idx[u]))\n",
    "\n",
    "    edge_index = torch.tensor(edges, dtype=torch.long).t().contiguous()\n",
    "    x = torch.ones((len(nodes), 1), dtype=torch.float)\n",
    "\n",
    "    data = Data(x=x, edge_index=edge_index)\n",
    "    data.diameter = nx.diameter(G)\n",
    "    data.count_hex = count_pattern(G, pattern6)\n",
    "    return data\n",
    "\n",
    "N_min = 6\n",
    "min_diam = 1\n",
    "\n",
    "max_tries = 1000"
   ]
  },
  {
   "cell_type": "code",
   "execution_count": null,
   "id": "a2df8a5a-0c8b-4a90-b248-0da4be45ccd8",
   "metadata": {
    "scrolled": true
   },
   "outputs": [],
   "source": [
    "dataset = []\n",
    "for c, s, N_max in [(2, 7, 12), (3, 5, 14), (4, 4, 20)]:\n",
    "    print(c, s, N_max)\n",
    "    for N in range(N_min, N_max, 2):\n",
    "        basics = []\n",
    "        counter = 0\n",
    "        for _ in range(30):\n",
    "            print(N, _)\n",
    "            G = generate_3_regular_graph(N, min_diam)\n",
    "            while True in [nx.is_isomorphic(G, _G) for _G in basics] or True in [len(cycle)>2 for cycle in nx.simple_cycles(G, length_bound=c)]:\n",
    "                G = generate_3_regular_graph(N, min_diam)\n",
    "                counter+=1\n",
    "                if counter>max_tries:\n",
    "                    break\n",
    "            if counter>max_tries:\n",
    "                break\n",
    "            basics.append(G)\n",
    "            #nx.draw(G)\n",
    "            #plt.show()\n",
    "            #plt.clf()\n",
    "        print(len(basics))\n",
    "        for i in range(len(basics)-1):\n",
    "            for j in range(i+1, len(basics)):\n",
    "                G = basics[i]\n",
    "                G2 = basics[j]\n",
    "                G_split = split_edges(G, s=s)\n",
    "                G2_split = split_edges(G2, s=s)\n",
    "                dataset.append((G_split, G2_split))\n",
    "        print(len(dataset))"
   ]
  },
  {
   "cell_type": "code",
   "execution_count": null,
   "id": "9359bd29-9fc5-4db1-b3b8-6c24827263f8",
   "metadata": {},
   "outputs": [],
   "source": [
    "import random\n",
    "random.shuffle(dataset)"
   ]
  },
  {
   "cell_type": "code",
   "execution_count": null,
   "id": "7cd3a377-7970-447d-aac1-a04ab450010e",
   "metadata": {},
   "outputs": [],
   "source": [
    "numtolist = dict()\n",
    "for pair in dataset:\n",
    "    num_nodes = pair[0].number_of_nodes()\n",
    "    if num_nodes in numtolist:\n",
    "        numtolist[num_nodes].append(pair)\n",
    "    else:\n",
    "        numtolist[num_nodes]= [pair]\n",
    "for key, value in numtolist.items():\n",
    "    print(key, len(value))\n",
    "dataset = []\n",
    "for key, value in numtolist.items():\n",
    "    dataset += value[:24]\n",
    "print(len(dataset))"
   ]
  },
  {
   "cell_type": "code",
   "execution_count": null,
   "id": "8d448597-67ce-4502-a228-712811d8885e",
   "metadata": {},
   "outputs": [],
   "source": [
    "_dataset = dataset\n",
    "dataset = []\n",
    "for G1, G2 in _dataset:\n",
    "    dataset.append(G1)\n",
    "    dataset.append(G2)"
   ]
  },
  {
   "cell_type": "code",
   "execution_count": null,
   "id": "e33deb22-787a-4172-a447-827f482ff0dc",
   "metadata": {},
   "outputs": [],
   "source": [
    "import pickle\n",
    "with open(\"3reg2reg.graphml\", \"wb\") as f:\n",
    "    for graph in dataset:\n",
    "        gml = nx.generate_graphml(graph)\n",
    "        pickle.dump(chr(10).join(gml), f)"
   ]
  },
  {
   "cell_type": "code",
   "execution_count": null,
   "id": "0a0bcfa2-fe33-4690-ad38-b99e2c7df701",
   "metadata": {
    "scrolled": true
   },
   "outputs": [],
   "source": [
    "if True:\n",
    "    _3reg2reg = []\n",
    "    with open(\"3reg2reg.graphml\", \"rb\") as f:\n",
    "        while True:\n",
    "            try:\n",
    "                _3reg2reg.append(nx.parse_graphml(pickle.load(f)))\n",
    "            except EOFError:\n",
    "                break\n",
    "    for graph in _3reg2reg:\n",
    "        nx.draw(graph)\n",
    "        plt.show()\n",
    "        plt.clf()"
   ]
  },
  {
   "cell_type": "markdown",
   "id": "a6e90aaa-4b01-4cf7-b88a-070dececfdb7",
   "metadata": {},
   "source": [
    "## 3r2r Standard Dataset"
   ]
  },
  {
   "cell_type": "code",
   "execution_count": null,
   "id": "5d2065ae-ca78-4291-babc-e48059efc279",
   "metadata": {
    "scrolled": true
   },
   "outputs": [],
   "source": [
    "import time\n",
    "max_time = 60\n",
    "dataset = [] # 10, \n",
    "for c, s, N_max, max_tries in [(2, 7, 22, 0), (3, 5, 30, 100), (4, 4, 38, 100)]:\n",
    "    print(c, s, N_max)\n",
    "    for N in range(N_min, N_max, 2):\n",
    "        start = time.time()\n",
    "        basics = []\n",
    "        for _ in range(334):\n",
    "            G = generate_3_regular_graph(N, min_diam)\n",
    "            while True in [nx.is_isomorphic(G, _G) for _G in basics] or True in [len(cycle)>2 for cycle in nx.simple_cycles(G, length_bound=c)]:\n",
    "                G = generate_3_regular_graph(N, min_diam)\n",
    "                if time.time()-start > max_time:\n",
    "                    break\n",
    "            if time.time()-start > max_time:\n",
    "                break\n",
    "            basics.append(G)\n",
    "            print(N, _)\n",
    "            #nx.draw(G)\n",
    "            #plt.show()\n",
    "            #plt.clf()\n",
    "        print(len(basics))\n",
    "        for graph in basics:\n",
    "                graph_split = split_edges(graph, s=s)\n",
    "                dataset.append(graph_split)\n",
    "        print(len(dataset))"
   ]
  },
  {
   "cell_type": "code",
   "execution_count": null,
   "id": "1ee0d0fd-b927-4072-a3ac-fc7e09a479b5",
   "metadata": {},
   "outputs": [],
   "source": [
    "import random\n",
    "random.shuffle(dataset)\n",
    "numtolist = dict()\n",
    "for graph in dataset:\n",
    "    num_nodes = graph.number_of_nodes()\n",
    "    if num_nodes in numtolist:\n",
    "        numtolist[num_nodes].append(graph)\n",
    "    else:\n",
    "        numtolist[num_nodes]= [graph]\n",
    "for key, value in sorted(numtolist.items(), key=lambda t: t[0]):\n",
    "    print(key, len(value))\n",
    "dataset = []\n",
    "for key, value in sorted(numtolist.items(), key=lambda t: t[0]):\n",
    "    dataset += value[:1000-len(dataset)]\n",
    "print(len(dataset))"
   ]
  },
  {
   "cell_type": "code",
   "execution_count": null,
   "id": "e9f151d9-2dcf-4726-8d94-28c8d2749ddd",
   "metadata": {},
   "outputs": [],
   "source": [
    "import pickle\n",
    "with open(\"3reg2reg1000.graphml\", \"wb\") as f:\n",
    "    for graph in dataset:\n",
    "        gml = nx.generate_graphml(graph)\n",
    "        pickle.dump(chr(10).join(gml), f)"
   ]
  },
  {
   "cell_type": "code",
   "execution_count": null,
   "id": "112e97af-b335-4396-bac8-792cb8f6c46a",
   "metadata": {},
   "outputs": [],
   "source": [
    "if True:\n",
    "    _3reg2reg = []\n",
    "    with open(\"3reg2reg1000.graphml\", \"rb\") as f:\n",
    "        while True:\n",
    "            try:\n",
    "                _3reg2reg.append(nx.parse_graphml(pickle.load(f)))\n",
    "            except EOFError:\n",
    "                break\n",
    "    for graph in _3reg2reg:\n",
    "        nx.draw(graph)\n",
    "        plt.show()\n",
    "        plt.clf()"
   ]
  }
 ],
 "metadata": {
  "kernelspec": {
   "display_name": "Python 3 (ipykernel)",
   "language": "python",
   "name": "python3"
  },
  "language_info": {
   "codemirror_mode": {
    "name": "ipython",
    "version": 3
   },
   "file_extension": ".py",
   "mimetype": "text/x-python",
   "name": "python",
   "nbconvert_exporter": "python",
   "pygments_lexer": "ipython3",
   "version": "3.11.5"
  }
 },
 "nbformat": 4,
 "nbformat_minor": 5
}

{
 "cells": [
  {
   "cell_type": "code",
   "execution_count": 1,
   "id": "b4966823-9c4c-413d-bbe0-67451482f7b2",
   "metadata": {},
   "outputs": [],
   "source": [
    "import pickle\n",
    "import torch\n",
    "import io\n",
    "import os"
   ]
  },
  {
   "cell_type": "code",
   "execution_count": 2,
   "id": "b60fa3a6-7cfa-4a0a-8a72-6b855f941db8",
   "metadata": {},
   "outputs": [],
   "source": [
    "class CPU_Unpickler(pickle.Unpickler):\n",
    "    def find_class(self, module, name):\n",
    "        if module == 'torch.storage' and name == '_load_from_bytes':\n",
    "            return lambda b: torch.load(io.BytesIO(b), map_location='cpu')\n",
    "        else: return super().find_class(module, name)"
   ]
  },
  {
   "cell_type": "code",
   "execution_count": 3,
   "id": "3a13fb57-6f85-4218-b66f-2154ff93640f",
   "metadata": {},
   "outputs": [
    {
     "name": "stdout",
     "output_type": "stream",
     "text": [
      "dict_keys([('GIN', 'CCoHG', 'CosineEmbeddingLoss', 1)])\n"
     ]
    },
    {
     "name": "stderr",
     "output_type": "stream",
     "text": [
      "C:\\Users\\billy\\AppData\\Local\\Temp\\ipykernel_22036\\3158114827.py:4: FutureWarning: You are using `torch.load` with `weights_only=False` (the current default value), which uses the default pickle module implicitly. It is possible to construct malicious pickle data which will execute arbitrary code during unpickling (See https://github.com/pytorch/pytorch/blob/main/SECURITY.md#untrusted-models for more details). In a future release, the default value for `weights_only` will be flipped to `True`. This limits the functions that could be executed during unpickling. Arbitrary objects will no longer be allowed to be loaded via this mode unless they are explicitly allowlisted by the user via `torch.serialization.add_safe_globals`. We recommend you start setting `weights_only=True` for any use case where you don't have full control of the loaded file. Please open an issue on GitHub for any issues related to this experimental feature.\n",
      "  return lambda b: torch.load(io.BytesIO(b), map_location='cpu')\n"
     ]
    }
   ],
   "source": [
    "directory = os.fsencode(\".\")\n",
    "data_dict = dict()\n",
    "for file in os.listdir(directory):\n",
    "    filename = os.fsdecode(file)\n",
    "    if filename.endswith(\".pkl\"):\n",
    "        with open(os.path.join(os.fsdecode(directory), filename), 'rb') as f:\n",
    "            while True:\n",
    "                try:\n",
    "                    data = CPU_Unpickler(f).load()\n",
    "                except EOFError:\n",
    "                    break\n",
    "                data_dict[(\"GIN\", data[1][0], data[-1].loss, data[-1].loss_parameter)] = data[:-1]\n",
    "print(data_dict.keys())"
   ]
  },
  {
   "cell_type": "code",
   "execution_count": 5,
   "id": "ec0c34e8-d59c-4e5e-869c-2a4e0bf755eb",
   "metadata": {},
   "outputs": [
    {
     "name": "stdout",
     "output_type": "stream",
     "text": [
      "0/100 ('GIN', 'CCoHG', 'CosineEmbeddingLoss', 1)\n"
     ]
    }
   ],
   "source": [
    "keys = data_dict.keys()\n",
    "counts = dict()\n",
    "for key in keys:\n",
    "    value = data_dict[key]\n",
    "    counts[key] = sum([1 for x in value if x[2] and x[4]])\n",
    "    print(f\"{counts[key]}/{len(value)}\", key)"
   ]
  },
  {
   "cell_type": "code",
   "execution_count": null,
   "id": "52418e1c-9a07-4ac2-9bb8-455920e5e5fd",
   "metadata": {},
   "outputs": [],
   "source": []
  }
 ],
 "metadata": {
  "kernelspec": {
   "display_name": "Python 3 (ipykernel)",
   "language": "python",
   "name": "python3"
  },
  "language_info": {
   "codemirror_mode": {
    "name": "ipython",
    "version": 3
   },
   "file_extension": ".py",
   "mimetype": "text/x-python",
   "name": "python",
   "nbconvert_exporter": "python",
   "pygments_lexer": "ipython3",
   "version": "3.11.5"
  }
 },
 "nbformat": 4,
 "nbformat_minor": 5
}
